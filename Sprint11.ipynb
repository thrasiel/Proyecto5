{
 "cells": [
  {
   "cell_type": "markdown",
   "metadata": {},
   "source": [
    "# Proyecto Sprint 11: Aprendizaje Automático en Negocios"
   ]
  },
  {
   "cell_type": "markdown",
   "metadata": {},
   "source": [
    "## Introducción\n",
    "\n",
    "Para el presente proyecto, trabajamos en la compañía de extracción de petróleo OilyGiant. El objetivo del mismo es encontrar los mejores lugares donde abrir 200 pozos nuevos de petróleo.\n"
   ]
  },
  {
   "cell_type": "markdown",
   "metadata": {},
   "source": [
    "## Inicialización\n",
    "\n",
    "Iniciamos con la importación de las librerías requeridas para el proyecto."
   ]
  },
  {
   "cell_type": "code",
   "execution_count": 1,
   "metadata": {},
   "outputs": [],
   "source": [
    "import pandas as pd\n",
    "import numpy as np\n",
    "from sklearn.linear_model import LinearRegression\n",
    "from sklearn.model_selection import train_test_split\n",
    "from sklearn.preprocessing import StandardScaler\n",
    "from sklearn.metrics import mean_squared_error\n",
    "from numpy.random import RandomState\n",
    "from scipy import stats as st\n",
    "\n",
    "pd.options.mode.chained_assignment = None #Esta opcion deshabilita el warning al estandarizar los datos"
   ]
  },
  {
   "cell_type": "markdown",
   "metadata": {},
   "source": [
    "## Carga de Datos\n",
    "\n",
    "Continuamos con la lectura de nuestros dataset, revisando que el separador por defecto sea efectivamente el que necesitamos. Para ello, imprimimos una muestra."
   ]
  },
  {
   "cell_type": "code",
   "execution_count": 2,
   "metadata": {},
   "outputs": [
    {
     "name": "stdout",
     "output_type": "stream",
     "text": [
      "<class 'pandas.core.frame.DataFrame'>\n",
      "RangeIndex: 100000 entries, 0 to 99999\n",
      "Data columns (total 5 columns):\n",
      " #   Column   Non-Null Count   Dtype  \n",
      "---  ------   --------------   -----  \n",
      " 0   id       100000 non-null  object \n",
      " 1   f0       100000 non-null  float64\n",
      " 2   f1       100000 non-null  float64\n",
      " 3   f2       100000 non-null  float64\n",
      " 4   product  100000 non-null  float64\n",
      "dtypes: float64(4), object(1)\n",
      "memory usage: 3.8+ MB\n"
     ]
    },
    {
     "data": {
      "text/html": [
       "<div>\n",
       "<style scoped>\n",
       "    .dataframe tbody tr th:only-of-type {\n",
       "        vertical-align: middle;\n",
       "    }\n",
       "\n",
       "    .dataframe tbody tr th {\n",
       "        vertical-align: top;\n",
       "    }\n",
       "\n",
       "    .dataframe thead th {\n",
       "        text-align: right;\n",
       "    }\n",
       "</style>\n",
       "<table border=\"1\" class=\"dataframe\">\n",
       "  <thead>\n",
       "    <tr style=\"text-align: right;\">\n",
       "      <th></th>\n",
       "      <th>id</th>\n",
       "      <th>f0</th>\n",
       "      <th>f1</th>\n",
       "      <th>f2</th>\n",
       "      <th>product</th>\n",
       "    </tr>\n",
       "  </thead>\n",
       "  <tbody>\n",
       "    <tr>\n",
       "      <th>0</th>\n",
       "      <td>txEyH</td>\n",
       "      <td>0.705745</td>\n",
       "      <td>-0.497823</td>\n",
       "      <td>1.221170</td>\n",
       "      <td>105.280062</td>\n",
       "    </tr>\n",
       "    <tr>\n",
       "      <th>1</th>\n",
       "      <td>2acmU</td>\n",
       "      <td>1.334711</td>\n",
       "      <td>-0.340164</td>\n",
       "      <td>4.365080</td>\n",
       "      <td>73.037750</td>\n",
       "    </tr>\n",
       "    <tr>\n",
       "      <th>2</th>\n",
       "      <td>409Wp</td>\n",
       "      <td>1.022732</td>\n",
       "      <td>0.151990</td>\n",
       "      <td>1.419926</td>\n",
       "      <td>85.265647</td>\n",
       "    </tr>\n",
       "    <tr>\n",
       "      <th>3</th>\n",
       "      <td>iJLyR</td>\n",
       "      <td>-0.032172</td>\n",
       "      <td>0.139033</td>\n",
       "      <td>2.978566</td>\n",
       "      <td>168.620776</td>\n",
       "    </tr>\n",
       "    <tr>\n",
       "      <th>4</th>\n",
       "      <td>Xdl7t</td>\n",
       "      <td>1.988431</td>\n",
       "      <td>0.155413</td>\n",
       "      <td>4.751769</td>\n",
       "      <td>154.036647</td>\n",
       "    </tr>\n",
       "  </tbody>\n",
       "</table>\n",
       "</div>"
      ],
      "text/plain": [
       "      id        f0        f1        f2     product\n",
       "0  txEyH  0.705745 -0.497823  1.221170  105.280062\n",
       "1  2acmU  1.334711 -0.340164  4.365080   73.037750\n",
       "2  409Wp  1.022732  0.151990  1.419926   85.265647\n",
       "3  iJLyR -0.032172  0.139033  2.978566  168.620776\n",
       "4  Xdl7t  1.988431  0.155413  4.751769  154.036647"
      ]
     },
     "execution_count": 2,
     "metadata": {},
     "output_type": "execute_result"
    }
   ],
   "source": [
    "geo_0 = pd.read_csv(\"/datasets/geo_data_0.csv\")\n",
    "geo_1 = pd.read_csv(\"/datasets/geo_data_1.csv\")\n",
    "geo_2 = pd.read_csv(\"/datasets/geo_data_2.csv\")\n",
    "geo_0.info()\n",
    "geo_0.head()"
   ]
  },
  {
   "cell_type": "code",
   "execution_count": 3,
   "metadata": {},
   "outputs": [
    {
     "name": "stdout",
     "output_type": "stream",
     "text": [
      "<class 'pandas.core.frame.DataFrame'>\n",
      "RangeIndex: 100000 entries, 0 to 99999\n",
      "Data columns (total 5 columns):\n",
      " #   Column   Non-Null Count   Dtype  \n",
      "---  ------   --------------   -----  \n",
      " 0   id       100000 non-null  object \n",
      " 1   f0       100000 non-null  float64\n",
      " 2   f1       100000 non-null  float64\n",
      " 3   f2       100000 non-null  float64\n",
      " 4   product  100000 non-null  float64\n",
      "dtypes: float64(4), object(1)\n",
      "memory usage: 3.8+ MB\n"
     ]
    },
    {
     "data": {
      "text/html": [
       "<div>\n",
       "<style scoped>\n",
       "    .dataframe tbody tr th:only-of-type {\n",
       "        vertical-align: middle;\n",
       "    }\n",
       "\n",
       "    .dataframe tbody tr th {\n",
       "        vertical-align: top;\n",
       "    }\n",
       "\n",
       "    .dataframe thead th {\n",
       "        text-align: right;\n",
       "    }\n",
       "</style>\n",
       "<table border=\"1\" class=\"dataframe\">\n",
       "  <thead>\n",
       "    <tr style=\"text-align: right;\">\n",
       "      <th></th>\n",
       "      <th>id</th>\n",
       "      <th>f0</th>\n",
       "      <th>f1</th>\n",
       "      <th>f2</th>\n",
       "      <th>product</th>\n",
       "    </tr>\n",
       "  </thead>\n",
       "  <tbody>\n",
       "    <tr>\n",
       "      <th>0</th>\n",
       "      <td>kBEdx</td>\n",
       "      <td>-15.001348</td>\n",
       "      <td>-8.276000</td>\n",
       "      <td>-0.005876</td>\n",
       "      <td>3.179103</td>\n",
       "    </tr>\n",
       "    <tr>\n",
       "      <th>1</th>\n",
       "      <td>62mP7</td>\n",
       "      <td>14.272088</td>\n",
       "      <td>-3.475083</td>\n",
       "      <td>0.999183</td>\n",
       "      <td>26.953261</td>\n",
       "    </tr>\n",
       "    <tr>\n",
       "      <th>2</th>\n",
       "      <td>vyE1P</td>\n",
       "      <td>6.263187</td>\n",
       "      <td>-5.948386</td>\n",
       "      <td>5.001160</td>\n",
       "      <td>134.766305</td>\n",
       "    </tr>\n",
       "    <tr>\n",
       "      <th>3</th>\n",
       "      <td>KcrkZ</td>\n",
       "      <td>-13.081196</td>\n",
       "      <td>-11.506057</td>\n",
       "      <td>4.999415</td>\n",
       "      <td>137.945408</td>\n",
       "    </tr>\n",
       "    <tr>\n",
       "      <th>4</th>\n",
       "      <td>AHL4O</td>\n",
       "      <td>12.702195</td>\n",
       "      <td>-8.147433</td>\n",
       "      <td>5.004363</td>\n",
       "      <td>134.766305</td>\n",
       "    </tr>\n",
       "  </tbody>\n",
       "</table>\n",
       "</div>"
      ],
      "text/plain": [
       "      id         f0         f1        f2     product\n",
       "0  kBEdx -15.001348  -8.276000 -0.005876    3.179103\n",
       "1  62mP7  14.272088  -3.475083  0.999183   26.953261\n",
       "2  vyE1P   6.263187  -5.948386  5.001160  134.766305\n",
       "3  KcrkZ -13.081196 -11.506057  4.999415  137.945408\n",
       "4  AHL4O  12.702195  -8.147433  5.004363  134.766305"
      ]
     },
     "execution_count": 3,
     "metadata": {},
     "output_type": "execute_result"
    }
   ],
   "source": [
    "geo_1.info()\n",
    "geo_1.head()"
   ]
  },
  {
   "cell_type": "code",
   "execution_count": 4,
   "metadata": {},
   "outputs": [
    {
     "name": "stdout",
     "output_type": "stream",
     "text": [
      "<class 'pandas.core.frame.DataFrame'>\n",
      "RangeIndex: 100000 entries, 0 to 99999\n",
      "Data columns (total 5 columns):\n",
      " #   Column   Non-Null Count   Dtype  \n",
      "---  ------   --------------   -----  \n",
      " 0   id       100000 non-null  object \n",
      " 1   f0       100000 non-null  float64\n",
      " 2   f1       100000 non-null  float64\n",
      " 3   f2       100000 non-null  float64\n",
      " 4   product  100000 non-null  float64\n",
      "dtypes: float64(4), object(1)\n",
      "memory usage: 3.8+ MB\n"
     ]
    },
    {
     "data": {
      "text/html": [
       "<div>\n",
       "<style scoped>\n",
       "    .dataframe tbody tr th:only-of-type {\n",
       "        vertical-align: middle;\n",
       "    }\n",
       "\n",
       "    .dataframe tbody tr th {\n",
       "        vertical-align: top;\n",
       "    }\n",
       "\n",
       "    .dataframe thead th {\n",
       "        text-align: right;\n",
       "    }\n",
       "</style>\n",
       "<table border=\"1\" class=\"dataframe\">\n",
       "  <thead>\n",
       "    <tr style=\"text-align: right;\">\n",
       "      <th></th>\n",
       "      <th>id</th>\n",
       "      <th>f0</th>\n",
       "      <th>f1</th>\n",
       "      <th>f2</th>\n",
       "      <th>product</th>\n",
       "    </tr>\n",
       "  </thead>\n",
       "  <tbody>\n",
       "    <tr>\n",
       "      <th>0</th>\n",
       "      <td>fwXo0</td>\n",
       "      <td>-1.146987</td>\n",
       "      <td>0.963328</td>\n",
       "      <td>-0.828965</td>\n",
       "      <td>27.758673</td>\n",
       "    </tr>\n",
       "    <tr>\n",
       "      <th>1</th>\n",
       "      <td>WJtFt</td>\n",
       "      <td>0.262778</td>\n",
       "      <td>0.269839</td>\n",
       "      <td>-2.530187</td>\n",
       "      <td>56.069697</td>\n",
       "    </tr>\n",
       "    <tr>\n",
       "      <th>2</th>\n",
       "      <td>ovLUW</td>\n",
       "      <td>0.194587</td>\n",
       "      <td>0.289035</td>\n",
       "      <td>-5.586433</td>\n",
       "      <td>62.871910</td>\n",
       "    </tr>\n",
       "    <tr>\n",
       "      <th>3</th>\n",
       "      <td>q6cA6</td>\n",
       "      <td>2.236060</td>\n",
       "      <td>-0.553760</td>\n",
       "      <td>0.930038</td>\n",
       "      <td>114.572842</td>\n",
       "    </tr>\n",
       "    <tr>\n",
       "      <th>4</th>\n",
       "      <td>WPMUX</td>\n",
       "      <td>-0.515993</td>\n",
       "      <td>1.716266</td>\n",
       "      <td>5.899011</td>\n",
       "      <td>149.600746</td>\n",
       "    </tr>\n",
       "  </tbody>\n",
       "</table>\n",
       "</div>"
      ],
      "text/plain": [
       "      id        f0        f1        f2     product\n",
       "0  fwXo0 -1.146987  0.963328 -0.828965   27.758673\n",
       "1  WJtFt  0.262778  0.269839 -2.530187   56.069697\n",
       "2  ovLUW  0.194587  0.289035 -5.586433   62.871910\n",
       "3  q6cA6  2.236060 -0.553760  0.930038  114.572842\n",
       "4  WPMUX -0.515993  1.716266  5.899011  149.600746"
      ]
     },
     "execution_count": 4,
     "metadata": {},
     "output_type": "execute_result"
    }
   ],
   "source": [
    "geo_2.info()\n",
    "geo_2.head()"
   ]
  },
  {
   "cell_type": "markdown",
   "metadata": {},
   "source": [
    "A nivel general se aprecia que los 3 dataset cargados están bien estructurados. El separador por defecto es la coma y sus columnas están nombradas con minúsculas. Tampoco se aprecian datos faltantes en ninguna de las mismas."
   ]
  },
  {
   "cell_type": "markdown",
   "metadata": {},
   "source": [
    "## Preparación de los datos"
   ]
  },
  {
   "cell_type": "markdown",
   "metadata": {},
   "source": [
    "### Tratado de valores duplicados\n",
    "\n",
    "Revisaremos si en nuestros dataset existen valores que estén repetidos (a nivel de filas)."
   ]
  },
  {
   "cell_type": "code",
   "execution_count": 5,
   "metadata": {},
   "outputs": [
    {
     "data": {
      "text/plain": [
       "0"
      ]
     },
     "execution_count": 5,
     "metadata": {},
     "output_type": "execute_result"
    }
   ],
   "source": [
    "geo_0.duplicated().sum()"
   ]
  },
  {
   "cell_type": "code",
   "execution_count": 6,
   "metadata": {},
   "outputs": [
    {
     "data": {
      "text/plain": [
       "0"
      ]
     },
     "execution_count": 6,
     "metadata": {},
     "output_type": "execute_result"
    }
   ],
   "source": [
    "geo_1.duplicated().sum()"
   ]
  },
  {
   "cell_type": "code",
   "execution_count": 7,
   "metadata": {},
   "outputs": [
    {
     "data": {
      "text/plain": [
       "0"
      ]
     },
     "execution_count": 7,
     "metadata": {},
     "output_type": "execute_result"
    }
   ],
   "source": [
    "geo_2.duplicated().sum()"
   ]
  },
  {
   "cell_type": "markdown",
   "metadata": {},
   "source": [
    "Ya que no existen valores ausentes ni duplicados continuaremos con la segmentación del dataset."
   ]
  },
  {
   "cell_type": "markdown",
   "metadata": {},
   "source": [
    "### Segmentación del Dataset\n",
    "\n",
    "Comenzamos definiendo los features y target de cada dataset."
   ]
  },
  {
   "cell_type": "code",
   "execution_count": 8,
   "metadata": {},
   "outputs": [],
   "source": [
    "features0 = geo_0.drop(\"product\", axis = 1)\n",
    "target0 = geo_0[\"product\"]\n",
    "\n",
    "features1 = geo_1.drop(\"product\", axis = 1)\n",
    "target1 = geo_1[\"product\"]\n",
    "\n",
    "features2 = geo_2.drop(\"product\", axis = 1)\n",
    "target2 = geo_2[\"product\"]"
   ]
  },
  {
   "cell_type": "markdown",
   "metadata": {},
   "source": [
    "Para el dataset de entrenamiento dejaremos 75% del dataframe total, para el de validación un 25% de los datos. Esto, para nuestro primer dataframe geo_0."
   ]
  },
  {
   "cell_type": "code",
   "execution_count": 9,
   "metadata": {},
   "outputs": [],
   "source": [
    "features0_train, features0_valid, target0_train, target0_valid = train_test_split(\n",
    "    features0, target0, test_size=0.25, random_state=1702)"
   ]
  },
  {
   "cell_type": "markdown",
   "metadata": {},
   "source": [
    "### Estandarización de datos"
   ]
  },
  {
   "cell_type": "code",
   "execution_count": 10,
   "metadata": {
    "scrolled": false
   },
   "outputs": [],
   "source": [
    "numeric = [\"f0\", \"f1\", \"f2\"]\n",
    "scaler = StandardScaler()\n",
    "scaler.fit(feateures0_train[numeric])\n",
    "features0_train[numeric] = scaler.transform(features0_train[numeric])\n",
    "features0_valid[numeric] = scaler.transform(features0_valid[numeric])"
   ]
  },
  {
   "cell_type": "markdown",
   "metadata": {},
   "source": [
    "## Entrenamiento del Modelo"
   ]
  },
  {
   "cell_type": "markdown",
   "metadata": {},
   "source": [
    "### Modelo para el Dataset geo_0"
   ]
  },
  {
   "cell_type": "code",
   "execution_count": 11,
   "metadata": {},
   "outputs": [
    {
     "name": "stdout",
     "output_type": "stream",
     "text": [
      "Volumen medio predicho 92.47\n",
      "RMSE del modelo es: 37.88\n",
      "Volumen medio real 92.5\n"
     ]
    }
   ],
   "source": [
    "model = LinearRegression()\n",
    "model.fit(features0_train[numeric], target0_train) # entrena el modelo en el conjunto de entrenamiento\n",
    "predictions0_valid = model.predict(features0_valid[numeric])\n",
    "\n",
    "result = mean_squared_error(target0_valid,predictions0_valid)**0.5\n",
    "\n",
    "print(\"Volumen medio predicho\", predictions0_valid.mean().round(2))\n",
    "print(\"RMSE del modelo es:\", result.round(2))\n",
    "print(\"Volumen medio real\",target0.mean().round(2))"
   ]
  },
  {
   "cell_type": "markdown",
   "metadata": {},
   "source": [
    "Resultado no satisfactorio acorde a los rangos de producto en nuestro dataset. El RMSE es demasiado alto, por ende el error no nos permite asegurar que sea un buen modelo. Hay que comparar las otras regiones. Sus volumenes son muy similares, por lo que solo el RMSE señala que el modelo tiene alta tasa de errores."
   ]
  },
  {
   "cell_type": "markdown",
   "metadata": {},
   "source": [
    "### Función para dataset geo_1 y geo_2"
   ]
  },
  {
   "cell_type": "code",
   "execution_count": 12,
   "metadata": {},
   "outputs": [],
   "source": [
    "current_predictions = []\n",
    "def dataprep(features, target):\n",
    "    features_train, features_valid, target_train, target_valid = train_test_split(features, target, \n",
    "                                                                                  test_size = 0.25, \n",
    "                                                                                  random_state = 1702)\n",
    "    scaler = StandardScaler()\n",
    "    features_train.drop(\"id\", axis = 1, inplace = True) #para evitar errores al modelar dejamos solo col numericas\n",
    "    features_valid.drop(\"id\", axis = 1, inplace = True) #para evitar errores al modelar\n",
    "    scaler.fit(features_train)\n",
    "    features_train = scaler.transform(features_train)\n",
    "    features_valid = scaler.transform(features_valid)\n",
    "    model = LinearRegression()\n",
    "    model.fit(features_train, target_train)\n",
    "    global predictions_valid #la hacemos global para utilizarla en la funcion de ganancias\n",
    "    predictions_valid = model.predict(features_valid)\n",
    "    current_predictions = pd.Series(predictions_valid)\n",
    "    result = mean_squared_error(target_valid, predictions_valid)**0.5\n",
    "    \n",
    "    print(\"Volumen medio predicho\", predictions_valid.mean().round(2))\n",
    "    print(\"RMSE del modelo es:\", result.round(2))"
   ]
  },
  {
   "cell_type": "markdown",
   "metadata": {},
   "source": [
    "### Modelo para el Dataset geo_1"
   ]
  },
  {
   "cell_type": "code",
   "execution_count": 13,
   "metadata": {},
   "outputs": [
    {
     "name": "stdout",
     "output_type": "stream",
     "text": [
      "Volumen medio predicho 68.44\n",
      "RMSE del modelo es: 0.89\n",
      "Volumen medio real 68.83\n"
     ]
    }
   ],
   "source": [
    "dataprep(features1, target1)\n",
    "print(\"Volumen medio real\",target1.mean().round(2))"
   ]
  },
  {
   "cell_type": "markdown",
   "metadata": {},
   "source": [
    "Los volumenes medios predicho y real son similares y el RMSE es bajo. Esta es la mejor región acorde a los datos que tenemos hasta ahora. El modelo funciona acorde a lo que uno esperaría."
   ]
  },
  {
   "cell_type": "markdown",
   "metadata": {},
   "source": [
    "### Modelo para el Dataset geo_2"
   ]
  },
  {
   "cell_type": "code",
   "execution_count": 14,
   "metadata": {},
   "outputs": [
    {
     "name": "stdout",
     "output_type": "stream",
     "text": [
      "Volumen medio predicho 95.15\n",
      "RMSE del modelo es: 39.98\n",
      "Volumen medio real 95.0\n"
     ]
    }
   ],
   "source": [
    "dataprep(features2, target2)\n",
    "print(\"Volumen medio real\",target2.mean().round(2))"
   ]
  },
  {
   "cell_type": "markdown",
   "metadata": {},
   "source": [
    "Mismo caso que dataset geo_0. Sus volumenes predichos y reales en la media son iguales. Sin embargo su RMSE es demasiado alto para considerarlo fiable."
   ]
  },
  {
   "cell_type": "markdown",
   "metadata": {},
   "source": [
    "### Cálculo de Ganancias\n",
    "\n",
    "Nos señalan que dada la inversión de 100 millones por 200 pozos petrolíferos, de media un pozo petrolífero debe producir al menos un valor de 500,000 dólares en unidades para evitar pérdidas (esto es equivalente a 111.1 unidades). \n",
    "\n",
    "Por ello, lo que debemos efectuar es comparar esta cantidad con la cantidad media de reservas en cada región.\n",
    "Para referirnos a las regiones las clasificaremos acorde a su valor de dataset. Es decir, región 0, 1 y 2 respectivamente.\n"
   ]
  },
  {
   "cell_type": "code",
   "execution_count": 15,
   "metadata": {},
   "outputs": [
    {
     "name": "stdout",
     "output_type": "stream",
     "text": [
      "Media region 0: 92.5\n",
      "Media region 1: 68.83\n",
      "Media region 2: 95.0\n"
     ]
    }
   ],
   "source": [
    "print(\"Media region 0:\", geo_0[\"product\"].mean().round(2))\n",
    "print(\"Media region 1:\", geo_1[\"product\"].mean().round(2))\n",
    "print(\"Media region 2:\", geo_2[\"product\"].mean().round(2))\n"
   ]
  },
  {
   "cell_type": "markdown",
   "metadata": {},
   "source": [
    "Claramente ninguna región cumple el requisito de forma inicial, ya que como vimos previamente, tenemos valores donde el mínimo es 0, por ende aquello baja el promedio de la región en su totalidad. Lo que nos señala el enunciado que para evitar pérdidas deberían estar alrededor de 111.1 unidades al menos.\n",
    "\n",
    "Ahora, nos piden que para 200 pozos petrolíferos produzcan lo señalado para, al menos, evitar pérdidas, por ende lo que se debe efectuar es seleccionar los 200 mejores pozos por región y evaluar lo respectivo con aquellos nuevos datos."
   ]
  },
  {
   "cell_type": "markdown",
   "metadata": {},
   "source": [
    "#### Ganancias por región"
   ]
  },
  {
   "cell_type": "markdown",
   "metadata": {},
   "source": [
    "Definimos la función para calcular las ganancias respectivas."
   ]
  },
  {
   "cell_type": "code",
   "execution_count": 16,
   "metadata": {},
   "outputs": [],
   "source": [
    "def ganancias(features, target):\n",
    "    dataprep(features, target)\n",
    "    global predictions #para utilizarla en bootstrapping\n",
    "    predictions = pd.Series(predictions_valid).sort_values(ascending = False).head(200)\n",
    "    ganancias = predictions.sum()*4500\n",
    "    print(\"ganancias predichas de la region (millones de dolares) =\", (ganancias/1000000).round(2))\n",
    "\n"
   ]
  },
  {
   "cell_type": "markdown",
   "metadata": {},
   "source": [
    "#### Ganancia región 0\n",
    "\n",
    "Considerando sus mejores 200 pozos en la región."
   ]
  },
  {
   "cell_type": "code",
   "execution_count": 17,
   "metadata": {},
   "outputs": [
    {
     "name": "stdout",
     "output_type": "stream",
     "text": [
      "Volumen medio predicho 92.47\n",
      "RMSE del modelo es: 37.88\n",
      "ganancias predichas de la region (millones de dolares) = 138.58\n"
     ]
    }
   ],
   "source": [
    "ganancias(features0, target0)\n"
   ]
  },
  {
   "cell_type": "markdown",
   "metadata": {},
   "source": [
    "La ganancia de la región 0 es bastante alta (la mayor de las 3 regiones). Sin embargo, algo que no podemos pasar por alto es su valor elevado de RMSE."
   ]
  },
  {
   "cell_type": "markdown",
   "metadata": {},
   "source": [
    "#### Ganancia región 1\n",
    "\n",
    "Considerando sus mejores 200 pozos en la región."
   ]
  },
  {
   "cell_type": "code",
   "execution_count": 18,
   "metadata": {},
   "outputs": [
    {
     "name": "stdout",
     "output_type": "stream",
     "text": [
      "Volumen medio predicho 68.44\n",
      "RMSE del modelo es: 0.89\n",
      "ganancias predichas de la region (millones de dolares) = 124.91\n"
     ]
    }
   ],
   "source": [
    "ganancias(features1, target1)"
   ]
  },
  {
   "cell_type": "markdown",
   "metadata": {},
   "source": [
    "Para maximizar la ganancia, el RMSE del modelo debe ser bajo, por ende nos conviene tomar los pozos de la región 1. Esta es la que en volumen medio tenia la menor cantidad, sí, y también es la que posee menor ganancia, pero acorde a lo planteado en las condiciones, cumple con tener el valor arriba de lo requerido. Por ende sus ganancias proyectadas estarían más cerca de lo real."
   ]
  },
  {
   "cell_type": "markdown",
   "metadata": {},
   "source": [
    "#### Ganancia región 2\n",
    "\n",
    "Considerando sus mejores 200 pozos en la región."
   ]
  },
  {
   "cell_type": "code",
   "execution_count": 19,
   "metadata": {},
   "outputs": [
    {
     "name": "stdout",
     "output_type": "stream",
     "text": [
      "Volumen medio predicho 95.15\n",
      "RMSE del modelo es: 39.98\n",
      "ganancias predichas de la region (millones de dolares) = 134.26\n"
     ]
    }
   ],
   "source": [
    "ganancias(features2, target2)"
   ]
  },
  {
   "cell_type": "markdown",
   "metadata": {},
   "source": [
    "Mismo caso que la region 0. Mejor ganancia que la región 1, pero el RMSE es demasiado elevado."
   ]
  },
  {
   "cell_type": "markdown",
   "metadata": {},
   "source": [
    "### Ganancias y Riesgos por Región\n",
    "\n",
    "Utilizando las predicciones que se almacenaron en el paso anterior, se emplea la técnica del bootstrapping con 1000 muestras para hallar la distribución de los beneficios."
   ]
  },
  {
   "cell_type": "markdown",
   "metadata": {},
   "source": [
    "#### Región 0"
   ]
  },
  {
   "cell_type": "code",
   "execution_count": 20,
   "metadata": {
    "scrolled": true
   },
   "outputs": [
    {
     "name": "stdout",
     "output_type": "stream",
     "text": [
      "Volumen medio predicho 92.47\n",
      "RMSE del modelo es: 37.88\n",
      "ganancias predichas de la region (millones de dolares) = 138.58\n"
     ]
    }
   ],
   "source": [
    "ganancias(features0, target0) #para obtener el valor de predictions correspondiente a esta región"
   ]
  },
  {
   "cell_type": "code",
   "execution_count": 21,
   "metadata": {
    "scrolled": false
   },
   "outputs": [
    {
     "name": "stdout",
     "output_type": "stream",
     "text": [
      "Media de las submuestras: 181.78\n",
      "Ganancia Promedio Individual submuestras (miles de dolares): 818.03\n",
      "Intervalo de confianza del 95 % submuestras: (181.4954882714561, 182.07240229604986)\n",
      "Ganancia potencial (millones de dolares): 163.61\n"
     ]
    }
   ],
   "source": [
    "state = np.random.RandomState(1702) #para obtener diferentes submuestras\n",
    "\n",
    "values = []\n",
    "def conf_int(prediction):\n",
    "    values = []\n",
    "    for i in range(1000):\n",
    "        subsample = prediction.sample(frac = 1, replace = True,random_state = state) #subsample con reemplazo \n",
    "        values.append(subsample.quantile(1))\n",
    "\n",
    "    values= pd.Series(values)\n",
    "    print('Media de las submuestras:', values.mean().round(2))\n",
    "    print(\"Ganancia Promedio Individual submuestras (miles de dolares):\", (values.mean()*4.5).round(2))\n",
    "    \n",
    "    confidence_interval = st.t.interval(0.95, len(values)-1, loc=values.mean(), scale=values.sem())\n",
    "\n",
    "    print('Intervalo de confianza del 95 % submuestras:', confidence_interval)\n",
    "    print('Ganancia potencial (millones de dolares):', ((values.mean()*4500)*200/1000000).round(2)  )\n",
    "    \n",
    "conf_int(predictions)"
   ]
  },
  {
   "cell_type": "markdown",
   "metadata": {},
   "source": [
    "#### Región 1\n"
   ]
  },
  {
   "cell_type": "code",
   "execution_count": 22,
   "metadata": {},
   "outputs": [
    {
     "name": "stdout",
     "output_type": "stream",
     "text": [
      "Volumen medio predicho 68.44\n",
      "RMSE del modelo es: 0.89\n",
      "ganancias predichas de la region (millones de dolares) = 124.91\n",
      "\n",
      "Media de las submuestras: 139.86\n",
      "Ganancia Promedio Individual submuestras (miles de dolares): 629.37\n",
      "Intervalo de confianza del 95 % submuestras: (139.85000119474157, 139.8695212095075)\n",
      "Ganancia potencial (millones de dolares): 125.87\n"
     ]
    }
   ],
   "source": [
    "ganancias(features1, target1)\n",
    "print()\n",
    "conf_int(predictions)"
   ]
  },
  {
   "cell_type": "markdown",
   "metadata": {},
   "source": [
    "#### Región 2\n"
   ]
  },
  {
   "cell_type": "code",
   "execution_count": 23,
   "metadata": {},
   "outputs": [
    {
     "name": "stdout",
     "output_type": "stream",
     "text": [
      "Volumen medio predicho 95.15\n",
      "RMSE del modelo es: 39.98\n",
      "ganancias predichas de la region (millones de dolares) = 134.26\n",
      "\n",
      "Media de las submuestras: 172.42\n",
      "Ganancia Promedio Individual submuestras (miles de dolares): 775.87\n",
      "Intervalo de confianza del 95 % submuestras: (172.22802759270837, 172.6033695504491)\n",
      "Ganancia potencial (millones de dolares): 155.17\n"
     ]
    }
   ],
   "source": [
    "ganancias(features2, target2)\n",
    "print()\n",
    "conf_int(predictions)"
   ]
  },
  {
   "cell_type": "markdown",
   "metadata": {},
   "source": [
    "#### Conclusiones\n",
    "\n",
    "Acorde a lo que hemos visto, claramente las regiones 0 y 2 son superiores a niveles de ganancia potencial y en nuestros resultados de un inicio presentan mejores valores promedio para los pozos. \n",
    "\n",
    "Sin embargo, lo que sigue causando ruido (a mi parecer) es su valor de RMSE elevado al evaluar los modelos en ambas regiones. \n",
    "\n",
    "Considerando lo anterior, mi región para la inversión sería la 1, ya que el modelo se comporta mejor desde un inicio y con los valores evaluados mantenemos ganancias positivas que nos llevan a que al elegir sus mejores 200 pozos sea rentable."
   ]
  }
 ],
 "metadata": {
  "ExecuteTimeLog": [
   {
    "duration": 806,
    "start_time": "2024-10-31T16:17:26.207Z"
   },
   {
    "duration": 3,
    "start_time": "2024-10-31T16:17:39.138Z"
   },
   {
    "duration": 601,
    "start_time": "2024-10-31T16:18:32.144Z"
   },
   {
    "duration": 57,
    "start_time": "2024-10-31T16:18:41.953Z"
   },
   {
    "duration": 105,
    "start_time": "2024-10-31T16:19:02.809Z"
   },
   {
    "duration": 184,
    "start_time": "2024-10-31T16:19:23.137Z"
   },
   {
    "duration": 240,
    "start_time": "2024-10-31T16:19:51.237Z"
   },
   {
    "duration": 218,
    "start_time": "2024-10-31T16:20:04.494Z"
   },
   {
    "duration": 11,
    "start_time": "2024-10-31T16:20:16.726Z"
   },
   {
    "duration": 10,
    "start_time": "2024-10-31T16:20:25.765Z"
   },
   {
    "duration": 231,
    "start_time": "2024-10-31T16:20:47.852Z"
   },
   {
    "duration": 16,
    "start_time": "2024-10-31T16:20:54.162Z"
   },
   {
    "duration": 16,
    "start_time": "2024-10-31T16:21:10.037Z"
   },
   {
    "duration": 30,
    "start_time": "2024-10-31T16:27:07.791Z"
   },
   {
    "duration": 30,
    "start_time": "2024-10-31T16:27:19.940Z"
   },
   {
    "duration": 39,
    "start_time": "2024-10-31T16:27:32.800Z"
   },
   {
    "duration": 31,
    "start_time": "2024-10-31T16:27:39.641Z"
   },
   {
    "duration": 14,
    "start_time": "2024-10-31T16:44:55.174Z"
   },
   {
    "duration": 14,
    "start_time": "2024-10-31T16:45:21.778Z"
   },
   {
    "duration": 4,
    "start_time": "2024-10-31T16:56:15.432Z"
   },
   {
    "duration": 4,
    "start_time": "2024-10-31T16:59:51.771Z"
   },
   {
    "duration": 14,
    "start_time": "2024-10-31T16:59:54.014Z"
   },
   {
    "duration": 15,
    "start_time": "2024-10-31T17:00:04.886Z"
   },
   {
    "duration": 15,
    "start_time": "2024-10-31T17:00:28.386Z"
   },
   {
    "duration": 6,
    "start_time": "2024-10-31T17:01:17.316Z"
   },
   {
    "duration": 17,
    "start_time": "2024-10-31T17:01:20.414Z"
   },
   {
    "duration": 9,
    "start_time": "2024-10-31T17:01:29.986Z"
   },
   {
    "duration": 6,
    "start_time": "2024-10-31T17:01:42.117Z"
   },
   {
    "duration": 2,
    "start_time": "2024-10-31T17:05:01.138Z"
   },
   {
    "duration": 3,
    "start_time": "2024-10-31T17:05:19.731Z"
   },
   {
    "duration": 156,
    "start_time": "2024-10-31T17:59:40.440Z"
   },
   {
    "duration": 785,
    "start_time": "2024-10-31T17:59:58.020Z"
   },
   {
    "duration": 322,
    "start_time": "2024-10-31T17:59:58.808Z"
   },
   {
    "duration": 15,
    "start_time": "2024-10-31T17:59:59.132Z"
   },
   {
    "duration": 14,
    "start_time": "2024-10-31T17:59:59.149Z"
   },
   {
    "duration": 48,
    "start_time": "2024-10-31T17:59:59.165Z"
   },
   {
    "duration": 28,
    "start_time": "2024-10-31T17:59:59.214Z"
   },
   {
    "duration": 31,
    "start_time": "2024-10-31T17:59:59.244Z"
   },
   {
    "duration": 4,
    "start_time": "2024-10-31T17:59:59.276Z"
   },
   {
    "duration": 14,
    "start_time": "2024-10-31T17:59:59.304Z"
   },
   {
    "duration": 219,
    "start_time": "2024-10-31T17:59:59.320Z"
   },
   {
    "duration": 42,
    "start_time": "2024-10-31T18:00:08.187Z"
   },
   {
    "duration": 45,
    "start_time": "2024-10-31T18:00:49.406Z"
   },
   {
    "duration": 40,
    "start_time": "2024-10-31T18:00:51.805Z"
   },
   {
    "duration": 42,
    "start_time": "2024-10-31T18:18:52.155Z"
   },
   {
    "duration": 3,
    "start_time": "2024-10-31T18:19:15.363Z"
   },
   {
    "duration": 43,
    "start_time": "2024-10-31T18:19:20.196Z"
   },
   {
    "duration": 41,
    "start_time": "2024-10-31T18:19:24.475Z"
   },
   {
    "duration": 3,
    "start_time": "2024-10-31T18:19:40.308Z"
   },
   {
    "duration": 13,
    "start_time": "2024-10-31T18:20:45.621Z"
   },
   {
    "duration": 37,
    "start_time": "2024-10-31T18:20:58.772Z"
   },
   {
    "duration": 11,
    "start_time": "2024-10-31T18:22:01.562Z"
   },
   {
    "duration": 11,
    "start_time": "2024-10-31T18:22:26.692Z"
   },
   {
    "duration": 3,
    "start_time": "2024-10-31T18:23:22.520Z"
   },
   {
    "duration": 27,
    "start_time": "2024-10-31T18:23:25.475Z"
   },
   {
    "duration": 14,
    "start_time": "2024-10-31T18:23:34.781Z"
   },
   {
    "duration": 26,
    "start_time": "2024-10-31T18:24:37.686Z"
   },
   {
    "duration": 26,
    "start_time": "2024-10-31T18:24:47.790Z"
   },
   {
    "duration": 27,
    "start_time": "2024-10-31T18:25:00.880Z"
   },
   {
    "duration": 26,
    "start_time": "2024-10-31T18:25:21.227Z"
   },
   {
    "duration": 5,
    "start_time": "2024-10-31T18:25:25.616Z"
   },
   {
    "duration": 13,
    "start_time": "2024-10-31T18:25:28.495Z"
   },
   {
    "duration": 14,
    "start_time": "2024-10-31T18:25:44.607Z"
   },
   {
    "duration": 13,
    "start_time": "2024-10-31T18:25:50.139Z"
   },
   {
    "duration": 13,
    "start_time": "2024-10-31T18:26:11.604Z"
   },
   {
    "duration": 12,
    "start_time": "2024-10-31T18:26:34.105Z"
   },
   {
    "duration": 15,
    "start_time": "2024-10-31T18:31:29.322Z"
   },
   {
    "duration": 18,
    "start_time": "2024-10-31T18:53:18.424Z"
   },
   {
    "duration": 9,
    "start_time": "2024-10-31T18:57:31.039Z"
   },
   {
    "duration": 4,
    "start_time": "2024-10-31T19:08:07.943Z"
   },
   {
    "duration": 45,
    "start_time": "2024-10-31T19:09:01.163Z"
   },
   {
    "duration": 39,
    "start_time": "2024-10-31T19:10:34.890Z"
   },
   {
    "duration": 4,
    "start_time": "2024-10-31T19:12:12.824Z"
   },
   {
    "duration": 39,
    "start_time": "2024-10-31T19:12:16.758Z"
   },
   {
    "duration": 38,
    "start_time": "2024-10-31T19:14:09.364Z"
   },
   {
    "duration": 4,
    "start_time": "2024-10-31T19:20:51.067Z"
   },
   {
    "duration": 43,
    "start_time": "2024-10-31T19:20:54.162Z"
   },
   {
    "duration": 377,
    "start_time": "2024-10-31T19:21:22.724Z"
   },
   {
    "duration": 31,
    "start_time": "2024-10-31T19:23:03.099Z"
   },
   {
    "duration": 30,
    "start_time": "2024-10-31T19:23:09.750Z"
   },
   {
    "duration": 30,
    "start_time": "2024-10-31T19:23:18.084Z"
   },
   {
    "duration": 4,
    "start_time": "2024-10-31T19:24:18.035Z"
   },
   {
    "duration": 28,
    "start_time": "2024-10-31T19:24:21.131Z"
   },
   {
    "duration": 12,
    "start_time": "2024-10-31T19:24:28.113Z"
   },
   {
    "duration": 271,
    "start_time": "2024-10-31T19:24:39.596Z"
   },
   {
    "duration": 107,
    "start_time": "2024-10-31T19:24:52.501Z"
   },
   {
    "duration": 5,
    "start_time": "2024-10-31T19:25:22.216Z"
   },
   {
    "duration": 9,
    "start_time": "2024-10-31T19:25:31.123Z"
   },
   {
    "duration": 43,
    "start_time": "2024-10-31T19:25:39.197Z"
   },
   {
    "duration": 4,
    "start_time": "2024-10-31T19:26:07.421Z"
   },
   {
    "duration": 39,
    "start_time": "2024-10-31T19:26:09.613Z"
   },
   {
    "duration": 4,
    "start_time": "2024-10-31T19:28:57.107Z"
   },
   {
    "duration": 290,
    "start_time": "2024-10-31T19:28:59.594Z"
   },
   {
    "duration": 4,
    "start_time": "2024-10-31T19:29:24.628Z"
   },
   {
    "duration": 48,
    "start_time": "2024-10-31T19:29:27.063Z"
   },
   {
    "duration": 4,
    "start_time": "2024-10-31T19:30:06.292Z"
   },
   {
    "duration": 35,
    "start_time": "2024-10-31T19:30:10.112Z"
   },
   {
    "duration": 28,
    "start_time": "2024-10-31T19:30:48.432Z"
   },
   {
    "duration": 28,
    "start_time": "2024-10-31T19:30:54.482Z"
   },
   {
    "duration": 3,
    "start_time": "2024-10-31T19:31:18.010Z"
   },
   {
    "duration": 31,
    "start_time": "2024-10-31T19:31:33.957Z"
   },
   {
    "duration": 28,
    "start_time": "2024-10-31T19:31:57.034Z"
   },
   {
    "duration": 28,
    "start_time": "2024-10-31T19:32:26.104Z"
   },
   {
    "duration": 4,
    "start_time": "2024-10-31T20:01:14.554Z"
   },
   {
    "duration": 4,
    "start_time": "2024-10-31T20:01:21.977Z"
   },
   {
    "duration": 4,
    "start_time": "2024-10-31T20:02:09.092Z"
   },
   {
    "duration": 5,
    "start_time": "2024-10-31T20:02:33.234Z"
   },
   {
    "duration": 17,
    "start_time": "2024-10-31T20:11:41.610Z"
   },
   {
    "duration": 15,
    "start_time": "2024-10-31T20:12:13.272Z"
   },
   {
    "duration": 15,
    "start_time": "2024-10-31T20:12:50.197Z"
   },
   {
    "duration": 14,
    "start_time": "2024-10-31T20:14:03.573Z"
   },
   {
    "duration": 16,
    "start_time": "2024-10-31T20:14:11.105Z"
   },
   {
    "duration": 15,
    "start_time": "2024-10-31T20:14:18.471Z"
   },
   {
    "duration": 28,
    "start_time": "2024-10-31T20:15:49.873Z"
   },
   {
    "duration": 28,
    "start_time": "2024-10-31T20:16:06.262Z"
   },
   {
    "duration": 21,
    "start_time": "2024-10-31T20:16:16.787Z"
   },
   {
    "duration": 22,
    "start_time": "2024-10-31T20:16:20.324Z"
   },
   {
    "duration": 22,
    "start_time": "2024-10-31T20:16:37.989Z"
   },
   {
    "duration": 3,
    "start_time": "2024-10-31T20:16:46.093Z"
   },
   {
    "duration": 27,
    "start_time": "2024-10-31T20:16:49.080Z"
   },
   {
    "duration": 23,
    "start_time": "2024-10-31T20:16:56.864Z"
   },
   {
    "duration": 24,
    "start_time": "2024-10-31T20:17:04.531Z"
   },
   {
    "duration": 2,
    "start_time": "2024-10-31T20:21:28.926Z"
   },
   {
    "duration": 2,
    "start_time": "2024-10-31T20:21:32.799Z"
   },
   {
    "duration": 19,
    "start_time": "2024-10-31T20:21:46.212Z"
   },
   {
    "duration": 18,
    "start_time": "2024-10-31T20:22:04.254Z"
   },
   {
    "duration": 28,
    "start_time": "2024-10-31T20:22:10.621Z"
   },
   {
    "duration": 4,
    "start_time": "2024-10-31T20:23:18.644Z"
   },
   {
    "duration": 25,
    "start_time": "2024-10-31T20:23:22.553Z"
   },
   {
    "duration": 23,
    "start_time": "2024-10-31T20:23:25.069Z"
   },
   {
    "duration": 13,
    "start_time": "2024-10-31T20:23:30.739Z"
   },
   {
    "duration": 14,
    "start_time": "2024-10-31T20:26:01.621Z"
   },
   {
    "duration": 25,
    "start_time": "2024-10-31T20:26:08.042Z"
   },
   {
    "duration": 38,
    "start_time": "2024-10-31T20:26:23.988Z"
   },
   {
    "duration": 30,
    "start_time": "2024-10-31T20:26:29.512Z"
   },
   {
    "duration": 88,
    "start_time": "2024-10-31T20:26:54.917Z"
   },
   {
    "duration": 25,
    "start_time": "2024-10-31T20:27:05.762Z"
   },
   {
    "duration": 26,
    "start_time": "2024-10-31T20:27:25.990Z"
   },
   {
    "duration": 25,
    "start_time": "2024-10-31T20:27:34.035Z"
   },
   {
    "duration": 26,
    "start_time": "2024-10-31T20:27:40.258Z"
   },
   {
    "duration": 37,
    "start_time": "2024-10-31T20:32:58.850Z"
   },
   {
    "duration": 27,
    "start_time": "2024-10-31T20:33:09.751Z"
   },
   {
    "duration": 26,
    "start_time": "2024-10-31T20:34:28.693Z"
   },
   {
    "duration": 41,
    "start_time": "2024-10-31T20:35:01.304Z"
   },
   {
    "duration": 29,
    "start_time": "2024-10-31T20:35:07.785Z"
   },
   {
    "duration": 39,
    "start_time": "2024-10-31T20:37:41.568Z"
   },
   {
    "duration": 82,
    "start_time": "2024-10-31T20:38:35.429Z"
   },
   {
    "duration": 32,
    "start_time": "2024-10-31T20:38:51.646Z"
   },
   {
    "duration": 30,
    "start_time": "2024-10-31T20:39:21.712Z"
   },
   {
    "duration": 29,
    "start_time": "2024-10-31T20:39:25.564Z"
   },
   {
    "duration": 30,
    "start_time": "2024-10-31T20:39:50.068Z"
   },
   {
    "duration": 40,
    "start_time": "2024-10-31T20:43:04.958Z"
   },
   {
    "duration": 191,
    "start_time": "2024-10-31T20:44:08.320Z"
   },
   {
    "duration": 188,
    "start_time": "2024-10-31T20:45:32.633Z"
   },
   {
    "duration": 27,
    "start_time": "2024-10-31T21:06:25.910Z"
   },
   {
    "duration": 26,
    "start_time": "2024-10-31T21:06:37.171Z"
   },
   {
    "duration": 179,
    "start_time": "2024-10-31T21:09:00.033Z"
   },
   {
    "duration": 157,
    "start_time": "2024-10-31T21:09:29.456Z"
   },
   {
    "duration": 152,
    "start_time": "2024-10-31T21:09:35.664Z"
   },
   {
    "duration": 216,
    "start_time": "2024-10-31T21:09:47.397Z"
   },
   {
    "duration": 189,
    "start_time": "2024-10-31T21:10:03.026Z"
   },
   {
    "duration": 779,
    "start_time": "2024-11-01T16:11:20.199Z"
   },
   {
    "duration": 325,
    "start_time": "2024-11-01T16:11:20.981Z"
   },
   {
    "duration": 15,
    "start_time": "2024-11-01T16:11:21.308Z"
   },
   {
    "duration": 15,
    "start_time": "2024-11-01T16:11:21.326Z"
   },
   {
    "duration": 35,
    "start_time": "2024-11-01T16:11:21.342Z"
   },
   {
    "duration": 54,
    "start_time": "2024-11-01T16:11:21.379Z"
   },
   {
    "duration": 31,
    "start_time": "2024-11-01T16:11:21.435Z"
   },
   {
    "duration": 9,
    "start_time": "2024-11-01T16:11:21.468Z"
   },
   {
    "duration": 34,
    "start_time": "2024-11-01T16:11:21.479Z"
   },
   {
    "duration": 41,
    "start_time": "2024-11-01T16:11:21.516Z"
   },
   {
    "duration": 14,
    "start_time": "2024-11-01T16:11:21.559Z"
   },
   {
    "duration": 38,
    "start_time": "2024-11-01T16:11:21.574Z"
   },
   {
    "duration": 104,
    "start_time": "2024-11-01T16:11:21.614Z"
   },
   {
    "duration": 100,
    "start_time": "2024-11-01T16:11:21.720Z"
   },
   {
    "duration": 4,
    "start_time": "2024-11-01T16:11:21.822Z"
   },
   {
    "duration": 468,
    "start_time": "2024-11-01T16:11:21.827Z"
   },
   {
    "duration": 0,
    "start_time": "2024-11-01T16:11:22.297Z"
   },
   {
    "duration": 4,
    "start_time": "2024-11-01T16:12:41.553Z"
   },
   {
    "duration": 35,
    "start_time": "2024-11-01T16:12:44.775Z"
   },
   {
    "duration": 32,
    "start_time": "2024-11-01T16:12:47.313Z"
   },
   {
    "duration": 6,
    "start_time": "2024-11-01T16:12:49.781Z"
   },
   {
    "duration": 95,
    "start_time": "2024-11-01T16:12:56.030Z"
   },
   {
    "duration": 4,
    "start_time": "2024-11-01T16:13:26.422Z"
   },
   {
    "duration": 4,
    "start_time": "2024-11-01T16:13:56.674Z"
   },
   {
    "duration": 92,
    "start_time": "2024-11-01T16:14:03.319Z"
   },
   {
    "duration": 79,
    "start_time": "2024-11-01T16:14:14.235Z"
   },
   {
    "duration": 3,
    "start_time": "2024-11-01T16:14:27.369Z"
   },
   {
    "duration": 30,
    "start_time": "2024-11-01T16:15:40.976Z"
   },
   {
    "duration": 30,
    "start_time": "2024-11-01T16:15:43.659Z"
   },
   {
    "duration": 119,
    "start_time": "2024-11-01T16:16:29.592Z"
   },
   {
    "duration": 769,
    "start_time": "2024-11-01T16:17:32.608Z"
   },
   {
    "duration": 244,
    "start_time": "2024-11-01T16:17:33.380Z"
   },
   {
    "duration": 15,
    "start_time": "2024-11-01T16:17:33.626Z"
   },
   {
    "duration": 15,
    "start_time": "2024-11-01T16:17:33.644Z"
   },
   {
    "duration": 57,
    "start_time": "2024-11-01T16:17:33.661Z"
   },
   {
    "duration": 29,
    "start_time": "2024-11-01T16:17:33.720Z"
   },
   {
    "duration": 32,
    "start_time": "2024-11-01T16:17:33.751Z"
   },
   {
    "duration": 28,
    "start_time": "2024-11-01T16:17:33.784Z"
   },
   {
    "duration": 16,
    "start_time": "2024-11-01T16:17:33.813Z"
   },
   {
    "duration": 43,
    "start_time": "2024-11-01T16:17:33.832Z"
   },
   {
    "duration": 37,
    "start_time": "2024-11-01T16:17:33.877Z"
   },
   {
    "duration": 5,
    "start_time": "2024-11-01T16:17:33.916Z"
   },
   {
    "duration": 104,
    "start_time": "2024-11-01T16:17:33.922Z"
   },
   {
    "duration": 100,
    "start_time": "2024-11-01T16:17:34.028Z"
   },
   {
    "duration": 81,
    "start_time": "2024-11-01T16:17:34.130Z"
   },
   {
    "duration": 393,
    "start_time": "2024-11-01T16:17:34.212Z"
   },
   {
    "duration": 0,
    "start_time": "2024-11-01T16:17:34.606Z"
   },
   {
    "duration": 53,
    "start_time": "2024-11-01T16:18:21.255Z"
   },
   {
    "duration": 29,
    "start_time": "2024-11-01T16:19:02.475Z"
   },
   {
    "duration": 28,
    "start_time": "2024-11-01T16:19:22.285Z"
   },
   {
    "duration": 4,
    "start_time": "2024-11-01T16:19:41.682Z"
   },
   {
    "duration": 4,
    "start_time": "2024-11-01T16:19:46.247Z"
   },
   {
    "duration": 116,
    "start_time": "2024-11-01T16:19:48.794Z"
   },
   {
    "duration": 4,
    "start_time": "2024-11-01T16:20:01.573Z"
   },
   {
    "duration": 4,
    "start_time": "2024-11-01T16:20:03.878Z"
   },
   {
    "duration": 30,
    "start_time": "2024-11-01T16:20:05.880Z"
   },
   {
    "duration": 5,
    "start_time": "2024-11-01T16:20:18.222Z"
   },
   {
    "duration": 29,
    "start_time": "2024-11-01T16:20:20.806Z"
   },
   {
    "duration": 65,
    "start_time": "2024-11-01T16:20:25.652Z"
   },
   {
    "duration": 74,
    "start_time": "2024-11-01T16:20:58.039Z"
   },
   {
    "duration": 28,
    "start_time": "2024-11-01T16:22:11.253Z"
   },
   {
    "duration": 29,
    "start_time": "2024-11-01T16:22:13.419Z"
   },
   {
    "duration": 76,
    "start_time": "2024-11-01T16:22:19.234Z"
   },
   {
    "duration": 118,
    "start_time": "2024-11-01T16:22:32.098Z"
   },
   {
    "duration": 54,
    "start_time": "2024-11-01T16:22:35.868Z"
   },
   {
    "duration": 773,
    "start_time": "2024-11-01T16:58:56.018Z"
   },
   {
    "duration": 311,
    "start_time": "2024-11-01T16:58:56.794Z"
   },
   {
    "duration": 24,
    "start_time": "2024-11-01T16:58:57.107Z"
   },
   {
    "duration": 16,
    "start_time": "2024-11-01T16:58:57.133Z"
   },
   {
    "duration": 32,
    "start_time": "2024-11-01T16:58:57.152Z"
   },
   {
    "duration": 49,
    "start_time": "2024-11-01T16:58:57.186Z"
   },
   {
    "duration": 35,
    "start_time": "2024-11-01T16:58:57.239Z"
   },
   {
    "duration": 9,
    "start_time": "2024-11-01T16:58:57.276Z"
   },
   {
    "duration": 38,
    "start_time": "2024-11-01T16:58:57.287Z"
   },
   {
    "duration": 43,
    "start_time": "2024-11-01T16:58:57.327Z"
   },
   {
    "duration": 13,
    "start_time": "2024-11-01T16:58:57.371Z"
   },
   {
    "duration": 43,
    "start_time": "2024-11-01T16:58:57.386Z"
   },
   {
    "duration": 104,
    "start_time": "2024-11-01T16:58:57.430Z"
   },
   {
    "duration": 102,
    "start_time": "2024-11-01T16:58:57.537Z"
   },
   {
    "duration": 11,
    "start_time": "2024-11-01T16:58:57.641Z"
   },
   {
    "duration": 387,
    "start_time": "2024-11-01T16:58:57.729Z"
   },
   {
    "duration": 0,
    "start_time": "2024-11-01T16:58:58.118Z"
   },
   {
    "duration": 4,
    "start_time": "2024-11-01T17:00:31.009Z"
   },
   {
    "duration": 28,
    "start_time": "2024-11-01T17:00:34.902Z"
   },
   {
    "duration": 55,
    "start_time": "2024-11-01T17:00:41.871Z"
   },
   {
    "duration": 5,
    "start_time": "2024-11-01T17:00:55.902Z"
   },
   {
    "duration": 111,
    "start_time": "2024-11-01T17:00:59.218Z"
   },
   {
    "duration": 85,
    "start_time": "2024-11-01T17:04:40.240Z"
   },
   {
    "duration": 75,
    "start_time": "2024-11-01T17:05:06.550Z"
   },
   {
    "duration": 53,
    "start_time": "2024-11-01T17:07:39.173Z"
   },
   {
    "duration": 4,
    "start_time": "2024-11-01T17:08:09.322Z"
   },
   {
    "duration": 31,
    "start_time": "2024-11-01T17:08:11.556Z"
   },
   {
    "duration": 50,
    "start_time": "2024-11-01T17:08:22.239Z"
   },
   {
    "duration": 4,
    "start_time": "2024-11-01T17:09:05.189Z"
   },
   {
    "duration": 29,
    "start_time": "2024-11-01T17:09:12.639Z"
   },
   {
    "duration": 4,
    "start_time": "2024-11-01T17:10:14.997Z"
   },
   {
    "duration": 4,
    "start_time": "2024-11-01T17:10:18.865Z"
   },
   {
    "duration": 29,
    "start_time": "2024-11-01T17:10:20.544Z"
   },
   {
    "duration": 32,
    "start_time": "2024-11-01T17:10:27.515Z"
   },
   {
    "duration": 3,
    "start_time": "2024-11-01T17:11:26.423Z"
   },
   {
    "duration": 4,
    "start_time": "2024-11-01T17:11:31.916Z"
   },
   {
    "duration": 14,
    "start_time": "2024-11-01T17:11:34.773Z"
   },
   {
    "duration": 13,
    "start_time": "2024-11-01T17:11:38.660Z"
   },
   {
    "duration": 13,
    "start_time": "2024-11-01T17:11:43.062Z"
   },
   {
    "duration": 15,
    "start_time": "2024-11-01T17:11:47.636Z"
   },
   {
    "duration": 14,
    "start_time": "2024-11-01T17:11:55.544Z"
   },
   {
    "duration": 14,
    "start_time": "2024-11-01T17:12:04.473Z"
   },
   {
    "duration": 14,
    "start_time": "2024-11-01T17:12:08.657Z"
   },
   {
    "duration": 4,
    "start_time": "2024-11-01T17:12:17.275Z"
   },
   {
    "duration": 28,
    "start_time": "2024-11-01T17:18:30.516Z"
   },
   {
    "duration": 5,
    "start_time": "2024-11-01T17:18:53.184Z"
   },
   {
    "duration": 33,
    "start_time": "2024-11-01T17:18:56.477Z"
   },
   {
    "duration": 31,
    "start_time": "2024-11-01T17:18:59.181Z"
   },
   {
    "duration": 267,
    "start_time": "2024-11-01T17:19:04.063Z"
   },
   {
    "duration": 172,
    "start_time": "2024-11-01T17:19:28.752Z"
   },
   {
    "duration": 125,
    "start_time": "2024-11-01T17:20:06.110Z"
   },
   {
    "duration": 134,
    "start_time": "2024-11-01T17:20:16.904Z"
   },
   {
    "duration": 115,
    "start_time": "2024-11-01T17:20:33.210Z"
   },
   {
    "duration": 8,
    "start_time": "2024-11-01T17:22:54.027Z"
   },
   {
    "duration": 4,
    "start_time": "2024-11-01T17:23:18.313Z"
   },
   {
    "duration": 29,
    "start_time": "2024-11-01T17:23:20.870Z"
   },
   {
    "duration": 28,
    "start_time": "2024-11-01T17:23:23.111Z"
   },
   {
    "duration": 54,
    "start_time": "2024-11-01T17:23:33.072Z"
   },
   {
    "duration": 54,
    "start_time": "2024-11-01T17:23:53.584Z"
   },
   {
    "duration": 86,
    "start_time": "2024-11-01T17:24:04.449Z"
   },
   {
    "duration": 69,
    "start_time": "2024-11-01T17:24:16.269Z"
   },
   {
    "duration": 68,
    "start_time": "2024-11-01T17:24:22.781Z"
   },
   {
    "duration": 36,
    "start_time": "2024-11-01T17:24:42.484Z"
   },
   {
    "duration": 96,
    "start_time": "2024-11-01T17:24:58.548Z"
   },
   {
    "duration": 247,
    "start_time": "2024-11-01T17:25:18.087Z"
   },
   {
    "duration": 51,
    "start_time": "2024-11-01T17:31:59.676Z"
   },
   {
    "duration": 31,
    "start_time": "2024-11-01T17:32:11.634Z"
   },
   {
    "duration": 32,
    "start_time": "2024-11-01T17:32:16.049Z"
   },
   {
    "duration": 34,
    "start_time": "2024-11-01T17:32:42.844Z"
   },
   {
    "duration": 14,
    "start_time": "2024-11-01T17:35:24.010Z"
   },
   {
    "duration": 5,
    "start_time": "2024-11-01T17:36:28.336Z"
   },
   {
    "duration": 30,
    "start_time": "2024-11-01T17:42:16.661Z"
   },
   {
    "duration": 31,
    "start_time": "2024-11-01T17:42:28.864Z"
   },
   {
    "duration": 31,
    "start_time": "2024-11-01T17:42:33.883Z"
   },
   {
    "duration": 33,
    "start_time": "2024-11-01T17:42:50.543Z"
   },
   {
    "duration": 14,
    "start_time": "2024-11-01T17:43:24.535Z"
   },
   {
    "duration": 30,
    "start_time": "2024-11-01T17:44:15.679Z"
   },
   {
    "duration": 33,
    "start_time": "2024-11-01T17:47:01.398Z"
   },
   {
    "duration": 32,
    "start_time": "2024-11-01T17:47:28.443Z"
   },
   {
    "duration": 33,
    "start_time": "2024-11-01T17:47:52.169Z"
   },
   {
    "duration": 32,
    "start_time": "2024-11-01T17:52:14.191Z"
   },
   {
    "duration": 92,
    "start_time": "2024-11-01T18:02:25.254Z"
   },
   {
    "duration": 3,
    "start_time": "2024-11-01T18:02:30.417Z"
   },
   {
    "duration": 33,
    "start_time": "2024-11-01T18:02:32.794Z"
   },
   {
    "duration": 36,
    "start_time": "2024-11-01T18:02:35.437Z"
   },
   {
    "duration": 36,
    "start_time": "2024-11-01T18:02:38.653Z"
   },
   {
    "duration": 3,
    "start_time": "2024-11-01T18:18:27.890Z"
   },
   {
    "duration": 3,
    "start_time": "2024-11-01T18:18:32.455Z"
   },
   {
    "duration": 43,
    "start_time": "2024-11-01T18:24:54.686Z"
   },
   {
    "duration": 3,
    "start_time": "2024-11-01T18:25:03.737Z"
   },
   {
    "duration": 3,
    "start_time": "2024-11-01T18:26:53.624Z"
   },
   {
    "duration": 4,
    "start_time": "2024-11-01T18:27:05.104Z"
   },
   {
    "duration": 3,
    "start_time": "2024-11-01T18:27:18.844Z"
   },
   {
    "duration": 34,
    "start_time": "2024-11-01T18:27:21.454Z"
   },
   {
    "duration": 49,
    "start_time": "2024-11-01T18:27:23.838Z"
   },
   {
    "duration": 41,
    "start_time": "2024-11-01T18:27:26.596Z"
   },
   {
    "duration": 5,
    "start_time": "2024-11-01T18:27:29.970Z"
   },
   {
    "duration": 33,
    "start_time": "2024-11-01T18:27:46.886Z"
   },
   {
    "duration": 15,
    "start_time": "2024-11-01T18:29:28.332Z"
   },
   {
    "duration": 3,
    "start_time": "2024-11-01T18:29:45.891Z"
   },
   {
    "duration": 75,
    "start_time": "2024-11-01T18:29:48.896Z"
   },
   {
    "duration": 81,
    "start_time": "2024-11-01T18:33:06.298Z"
   },
   {
    "duration": 66,
    "start_time": "2024-11-01T18:33:35.116Z"
   },
   {
    "duration": 70,
    "start_time": "2024-11-01T18:45:20.488Z"
   },
   {
    "duration": 99,
    "start_time": "2024-11-01T18:46:32.528Z"
   },
   {
    "duration": 3,
    "start_time": "2024-11-01T18:47:18.640Z"
   },
   {
    "duration": 73,
    "start_time": "2024-11-01T18:49:49.931Z"
   },
   {
    "duration": 78,
    "start_time": "2024-11-01T18:51:34.475Z"
   },
   {
    "duration": 3,
    "start_time": "2024-11-01T18:52:43.533Z"
   },
   {
    "duration": 16,
    "start_time": "2024-11-01T18:53:18.265Z"
   },
   {
    "duration": 77,
    "start_time": "2024-11-01T18:53:29.413Z"
   },
   {
    "duration": 69,
    "start_time": "2024-11-01T18:53:40.110Z"
   },
   {
    "duration": 231,
    "start_time": "2024-11-01T18:54:13.522Z"
   },
   {
    "duration": 242,
    "start_time": "2024-11-01T18:55:19.531Z"
   },
   {
    "duration": 70,
    "start_time": "2024-11-01T19:02:29.999Z"
   },
   {
    "duration": 674,
    "start_time": "2024-11-01T19:05:00.442Z"
   },
   {
    "duration": 160,
    "start_time": "2024-11-01T19:10:53.364Z"
   },
   {
    "duration": 766,
    "start_time": "2024-11-01T19:11:02.879Z"
   },
   {
    "duration": 778,
    "start_time": "2024-11-01T19:11:16.047Z"
   },
   {
    "duration": 309,
    "start_time": "2024-11-01T19:11:16.827Z"
   },
   {
    "duration": 15,
    "start_time": "2024-11-01T19:11:17.138Z"
   },
   {
    "duration": 14,
    "start_time": "2024-11-01T19:11:17.155Z"
   },
   {
    "duration": 56,
    "start_time": "2024-11-01T19:11:17.171Z"
   },
   {
    "duration": 30,
    "start_time": "2024-11-01T19:11:17.229Z"
   },
   {
    "duration": 31,
    "start_time": "2024-11-01T19:11:17.261Z"
   },
   {
    "duration": 31,
    "start_time": "2024-11-01T19:11:17.293Z"
   },
   {
    "duration": 18,
    "start_time": "2024-11-01T19:11:17.326Z"
   },
   {
    "duration": 41,
    "start_time": "2024-11-01T19:11:17.347Z"
   },
   {
    "duration": 35,
    "start_time": "2024-11-01T19:11:17.390Z"
   },
   {
    "duration": 7,
    "start_time": "2024-11-01T19:11:17.427Z"
   },
   {
    "duration": 111,
    "start_time": "2024-11-01T19:11:17.436Z"
   },
   {
    "duration": 104,
    "start_time": "2024-11-01T19:11:17.550Z"
   },
   {
    "duration": 8,
    "start_time": "2024-11-01T19:11:17.728Z"
   },
   {
    "duration": 3,
    "start_time": "2024-11-01T19:11:17.737Z"
   },
   {
    "duration": 92,
    "start_time": "2024-11-01T19:11:17.742Z"
   },
   {
    "duration": 107,
    "start_time": "2024-11-01T19:11:17.838Z"
   },
   {
    "duration": 99,
    "start_time": "2024-11-01T19:11:17.947Z"
   },
   {
    "duration": 111,
    "start_time": "2024-11-01T19:11:18.049Z"
   },
   {
    "duration": 377,
    "start_time": "2024-11-01T19:11:18.161Z"
   },
   {
    "duration": 0,
    "start_time": "2024-11-01T19:11:18.540Z"
   },
   {
    "duration": 0,
    "start_time": "2024-11-01T19:11:18.541Z"
   },
   {
    "duration": 17,
    "start_time": "2024-11-01T19:11:59.201Z"
   },
   {
    "duration": 240,
    "start_time": "2024-11-01T19:12:07.350Z"
   },
   {
    "duration": 222,
    "start_time": "2024-11-01T19:12:28.582Z"
   },
   {
    "duration": 235,
    "start_time": "2024-11-01T19:12:37.441Z"
   },
   {
    "duration": 224,
    "start_time": "2024-11-01T19:12:43.102Z"
   },
   {
    "duration": 217,
    "start_time": "2024-11-01T19:12:45.483Z"
   },
   {
    "duration": 85,
    "start_time": "2024-11-01T19:12:59.560Z"
   },
   {
    "duration": 93,
    "start_time": "2024-11-01T19:13:11.490Z"
   },
   {
    "duration": 732,
    "start_time": "2024-11-01T19:14:35.106Z"
   },
   {
    "duration": 325,
    "start_time": "2024-11-01T19:14:35.840Z"
   },
   {
    "duration": 18,
    "start_time": "2024-11-01T19:14:36.167Z"
   },
   {
    "duration": 13,
    "start_time": "2024-11-01T19:14:36.188Z"
   },
   {
    "duration": 41,
    "start_time": "2024-11-01T19:14:36.204Z"
   },
   {
    "duration": 32,
    "start_time": "2024-11-01T19:14:36.247Z"
   },
   {
    "duration": 50,
    "start_time": "2024-11-01T19:14:36.281Z"
   },
   {
    "duration": 9,
    "start_time": "2024-11-01T19:14:36.333Z"
   },
   {
    "duration": 15,
    "start_time": "2024-11-01T19:14:36.344Z"
   },
   {
    "duration": 63,
    "start_time": "2024-11-01T19:14:36.361Z"
   },
   {
    "duration": 14,
    "start_time": "2024-11-01T19:14:36.426Z"
   },
   {
    "duration": 4,
    "start_time": "2024-11-01T19:14:36.442Z"
   },
   {
    "duration": 107,
    "start_time": "2024-11-01T19:14:36.448Z"
   },
   {
    "duration": 104,
    "start_time": "2024-11-01T19:14:36.627Z"
   },
   {
    "duration": 4,
    "start_time": "2024-11-01T19:14:36.733Z"
   },
   {
    "duration": 4,
    "start_time": "2024-11-01T19:14:36.738Z"
   },
   {
    "duration": 102,
    "start_time": "2024-11-01T19:14:36.743Z"
   },
   {
    "duration": 179,
    "start_time": "2024-11-01T19:14:36.848Z"
   },
   {
    "duration": 105,
    "start_time": "2024-11-01T19:14:37.029Z"
   },
   {
    "duration": 106,
    "start_time": "2024-11-01T19:14:37.136Z"
   },
   {
    "duration": 779,
    "start_time": "2024-11-01T19:15:09.895Z"
   },
   {
    "duration": 327,
    "start_time": "2024-11-01T19:15:10.676Z"
   },
   {
    "duration": 29,
    "start_time": "2024-11-01T19:15:11.005Z"
   },
   {
    "duration": 15,
    "start_time": "2024-11-01T19:15:11.036Z"
   },
   {
    "duration": 37,
    "start_time": "2024-11-01T19:15:11.053Z"
   },
   {
    "duration": 52,
    "start_time": "2024-11-01T19:15:11.092Z"
   },
   {
    "duration": 34,
    "start_time": "2024-11-01T19:15:11.145Z"
   },
   {
    "duration": 12,
    "start_time": "2024-11-01T19:15:11.181Z"
   },
   {
    "duration": 38,
    "start_time": "2024-11-01T19:15:11.195Z"
   },
   {
    "duration": 43,
    "start_time": "2024-11-01T19:15:11.236Z"
   },
   {
    "duration": 44,
    "start_time": "2024-11-01T19:15:11.280Z"
   },
   {
    "duration": 6,
    "start_time": "2024-11-01T19:15:11.326Z"
   },
   {
    "duration": 104,
    "start_time": "2024-11-01T19:15:11.333Z"
   },
   {
    "duration": 102,
    "start_time": "2024-11-01T19:15:11.439Z"
   },
   {
    "duration": 79,
    "start_time": "2024-11-01T19:15:11.544Z"
   },
   {
    "duration": 4,
    "start_time": "2024-11-01T19:15:11.625Z"
   },
   {
    "duration": 94,
    "start_time": "2024-11-01T19:15:11.630Z"
   },
   {
    "duration": 116,
    "start_time": "2024-11-01T19:15:11.726Z"
   },
   {
    "duration": 108,
    "start_time": "2024-11-01T19:15:11.844Z"
   },
   {
    "duration": 100,
    "start_time": "2024-11-01T19:15:12.025Z"
   },
   {
    "duration": 209,
    "start_time": "2024-11-01T19:15:12.127Z"
   },
   {
    "duration": 381,
    "start_time": "2024-11-01T19:15:12.339Z"
   },
   {
    "duration": 0,
    "start_time": "2024-11-01T19:15:12.725Z"
   },
   {
    "duration": 84,
    "start_time": "2024-11-01T19:15:46.895Z"
   },
   {
    "duration": 168,
    "start_time": "2024-11-01T19:16:51.387Z"
   },
   {
    "duration": 788,
    "start_time": "2024-11-01T19:17:00.238Z"
   },
   {
    "duration": 323,
    "start_time": "2024-11-01T19:17:01.028Z"
   },
   {
    "duration": 14,
    "start_time": "2024-11-01T19:17:01.353Z"
   },
   {
    "duration": 15,
    "start_time": "2024-11-01T19:17:01.369Z"
   },
   {
    "duration": 52,
    "start_time": "2024-11-01T19:17:01.387Z"
   },
   {
    "duration": 28,
    "start_time": "2024-11-01T19:17:01.441Z"
   },
   {
    "duration": 31,
    "start_time": "2024-11-01T19:17:01.471Z"
   },
   {
    "duration": 23,
    "start_time": "2024-11-01T19:17:01.503Z"
   },
   {
    "duration": 17,
    "start_time": "2024-11-01T19:17:01.528Z"
   },
   {
    "duration": 41,
    "start_time": "2024-11-01T19:17:01.546Z"
   },
   {
    "duration": 36,
    "start_time": "2024-11-01T19:17:01.588Z"
   },
   {
    "duration": 8,
    "start_time": "2024-11-01T19:17:01.626Z"
   },
   {
    "duration": 102,
    "start_time": "2024-11-01T19:17:01.636Z"
   },
   {
    "duration": 103,
    "start_time": "2024-11-01T19:17:01.741Z"
   },
   {
    "duration": 4,
    "start_time": "2024-11-01T19:17:01.846Z"
   },
   {
    "duration": 77,
    "start_time": "2024-11-01T19:17:01.852Z"
   },
   {
    "duration": 93,
    "start_time": "2024-11-01T19:17:01.932Z"
   },
   {
    "duration": 108,
    "start_time": "2024-11-01T19:17:02.027Z"
   },
   {
    "duration": 95,
    "start_time": "2024-11-01T19:17:02.137Z"
   },
   {
    "duration": 112,
    "start_time": "2024-11-01T19:17:02.233Z"
   },
   {
    "duration": 204,
    "start_time": "2024-11-01T19:17:02.347Z"
   },
   {
    "duration": 358,
    "start_time": "2024-11-01T19:17:02.552Z"
   },
   {
    "duration": 0,
    "start_time": "2024-11-01T19:17:02.911Z"
   },
   {
    "duration": 91,
    "start_time": "2024-11-01T19:17:43.303Z"
   },
   {
    "duration": 667,
    "start_time": "2024-11-01T19:19:03.473Z"
   },
   {
    "duration": 76,
    "start_time": "2024-11-01T19:20:10.097Z"
   },
   {
    "duration": 94,
    "start_time": "2024-11-01T19:21:14.535Z"
   },
   {
    "duration": 99,
    "start_time": "2024-11-01T19:21:23.399Z"
   },
   {
    "duration": 527,
    "start_time": "2024-11-01T19:21:37.297Z"
   },
   {
    "duration": 584,
    "start_time": "2024-11-01T19:22:52.189Z"
   },
   {
    "duration": 591,
    "start_time": "2024-11-01T19:24:08.947Z"
   },
   {
    "duration": 114,
    "start_time": "2024-11-01T19:24:32.317Z"
   },
   {
    "duration": 687,
    "start_time": "2024-11-01T19:29:59.750Z"
   },
   {
    "duration": 663,
    "start_time": "2024-11-01T19:32:32.626Z"
   },
   {
    "duration": 17,
    "start_time": "2024-11-01T19:32:54.572Z"
   },
   {
    "duration": 593,
    "start_time": "2024-11-01T19:33:07.569Z"
   },
   {
    "duration": 999,
    "start_time": "2024-11-01T19:33:54.491Z"
   },
   {
    "duration": 96,
    "start_time": "2024-11-01T19:34:34.488Z"
   },
   {
    "duration": 212,
    "start_time": "2024-11-01T19:35:35.513Z"
   },
   {
    "duration": 736,
    "start_time": "2024-11-01T19:35:42.902Z"
   },
   {
    "duration": 313,
    "start_time": "2024-11-01T19:35:43.641Z"
   },
   {
    "duration": 14,
    "start_time": "2024-11-01T19:35:43.956Z"
   },
   {
    "duration": 14,
    "start_time": "2024-11-01T19:35:43.972Z"
   },
   {
    "duration": 52,
    "start_time": "2024-11-01T19:35:43.988Z"
   },
   {
    "duration": 30,
    "start_time": "2024-11-01T19:35:44.041Z"
   },
   {
    "duration": 32,
    "start_time": "2024-11-01T19:35:44.072Z"
   },
   {
    "duration": 26,
    "start_time": "2024-11-01T19:35:44.106Z"
   },
   {
    "duration": 16,
    "start_time": "2024-11-01T19:35:44.134Z"
   },
   {
    "duration": 40,
    "start_time": "2024-11-01T19:35:44.154Z"
   },
   {
    "duration": 35,
    "start_time": "2024-11-01T19:35:44.196Z"
   },
   {
    "duration": 7,
    "start_time": "2024-11-01T19:35:44.232Z"
   },
   {
    "duration": 102,
    "start_time": "2024-11-01T19:35:44.241Z"
   },
   {
    "duration": 98,
    "start_time": "2024-11-01T19:35:44.345Z"
   },
   {
    "duration": 82,
    "start_time": "2024-11-01T19:35:44.445Z"
   },
   {
    "duration": 3,
    "start_time": "2024-11-01T19:35:44.529Z"
   },
   {
    "duration": 92,
    "start_time": "2024-11-01T19:35:44.533Z"
   },
   {
    "duration": 107,
    "start_time": "2024-11-01T19:35:44.626Z"
   },
   {
    "duration": 103,
    "start_time": "2024-11-01T19:35:44.735Z"
   },
   {
    "duration": 107,
    "start_time": "2024-11-01T19:35:44.840Z"
   },
   {
    "duration": 194,
    "start_time": "2024-11-01T19:35:44.949Z"
   },
   {
    "duration": 365,
    "start_time": "2024-11-01T19:35:45.144Z"
   },
   {
    "duration": 59,
    "start_time": "2024-11-01T19:37:04.287Z"
   },
   {
    "duration": 243,
    "start_time": "2024-11-01T19:37:36.239Z"
   },
   {
    "duration": 79,
    "start_time": "2024-11-01T19:37:50.972Z"
   },
   {
    "duration": 130,
    "start_time": "2024-11-01T19:42:22.744Z"
   },
   {
    "duration": 88,
    "start_time": "2024-11-01T19:42:51.890Z"
   },
   {
    "duration": 72,
    "start_time": "2024-11-01T19:43:13.022Z"
   },
   {
    "duration": 70,
    "start_time": "2024-11-01T19:43:22.355Z"
   },
   {
    "duration": 69,
    "start_time": "2024-11-01T19:43:53.192Z"
   },
   {
    "duration": 71,
    "start_time": "2024-11-01T19:44:07.554Z"
   },
   {
    "duration": 73,
    "start_time": "2024-11-01T19:44:29.660Z"
   },
   {
    "duration": 115,
    "start_time": "2024-11-01T19:44:36.563Z"
   },
   {
    "duration": 85,
    "start_time": "2024-11-01T19:44:56.570Z"
   },
   {
    "duration": 85,
    "start_time": "2024-11-01T19:45:06.809Z"
   },
   {
    "duration": 18,
    "start_time": "2024-11-01T19:45:41.877Z"
   },
   {
    "duration": 82,
    "start_time": "2024-11-01T19:46:22.897Z"
   },
   {
    "duration": 92,
    "start_time": "2024-11-01T19:46:26.367Z"
   },
   {
    "duration": 25,
    "start_time": "2024-11-01T19:46:30.553Z"
   },
   {
    "duration": 18,
    "start_time": "2024-11-01T19:48:13.285Z"
   },
   {
    "duration": 91,
    "start_time": "2024-11-01T19:48:42.647Z"
   },
   {
    "duration": 7,
    "start_time": "2024-11-01T19:49:05.133Z"
   },
   {
    "duration": 140,
    "start_time": "2024-11-01T19:49:09.447Z"
   },
   {
    "duration": 575,
    "start_time": "2024-11-01T19:49:23.817Z"
   },
   {
    "duration": 6,
    "start_time": "2024-11-01T19:49:57.363Z"
   },
   {
    "duration": 4,
    "start_time": "2024-11-01T19:50:10.511Z"
   },
   {
    "duration": 4,
    "start_time": "2024-11-01T19:50:17.146Z"
   },
   {
    "duration": 6,
    "start_time": "2024-11-01T19:50:42.786Z"
   },
   {
    "duration": 8,
    "start_time": "2024-11-01T19:51:27.531Z"
   },
   {
    "duration": 6,
    "start_time": "2024-11-01T19:51:31.088Z"
   },
   {
    "duration": 6,
    "start_time": "2024-11-01T19:51:39.565Z"
   },
   {
    "duration": 7,
    "start_time": "2024-11-01T19:52:02.497Z"
   },
   {
    "duration": 7,
    "start_time": "2024-11-01T19:52:45.832Z"
   },
   {
    "duration": 694,
    "start_time": "2024-11-01T19:53:07.911Z"
   },
   {
    "duration": 39,
    "start_time": "2024-11-01T19:53:29.018Z"
   },
   {
    "duration": 273,
    "start_time": "2024-11-01T19:53:38.019Z"
   },
   {
    "duration": 3,
    "start_time": "2024-11-01T19:55:21.386Z"
   },
   {
    "duration": 43,
    "start_time": "2024-11-01T19:55:34.302Z"
   },
   {
    "duration": 33,
    "start_time": "2024-11-01T19:55:40.431Z"
   },
   {
    "duration": 33,
    "start_time": "2024-11-01T19:57:55.359Z"
   },
   {
    "duration": 18,
    "start_time": "2024-11-01T19:58:14.839Z"
   },
   {
    "duration": 64,
    "start_time": "2024-11-01T19:59:26.157Z"
   },
   {
    "duration": 221,
    "start_time": "2024-11-01T20:00:10.256Z"
   },
   {
    "duration": 65,
    "start_time": "2024-11-01T20:00:26.091Z"
   },
   {
    "duration": 67,
    "start_time": "2024-11-01T20:00:31.639Z"
   },
   {
    "duration": 70,
    "start_time": "2024-11-01T20:03:26.741Z"
   },
   {
    "duration": 63,
    "start_time": "2024-11-01T20:03:36.915Z"
   },
   {
    "duration": 69,
    "start_time": "2024-11-01T20:03:47.963Z"
   },
   {
    "duration": 65,
    "start_time": "2024-11-01T20:04:05.558Z"
   },
   {
    "duration": 192,
    "start_time": "2024-11-01T20:04:18.798Z"
   },
   {
    "duration": 229,
    "start_time": "2024-11-01T20:04:26.674Z"
   },
   {
    "duration": 505,
    "start_time": "2024-11-01T20:04:35.557Z"
   },
   {
    "duration": 17,
    "start_time": "2024-11-01T20:04:56.232Z"
   },
   {
    "duration": 562,
    "start_time": "2024-11-01T20:05:36.089Z"
   },
   {
    "duration": 317,
    "start_time": "2024-11-01T20:10:23.573Z"
   },
   {
    "duration": 332,
    "start_time": "2024-11-01T20:11:02.812Z"
   },
   {
    "duration": 300,
    "start_time": "2024-11-01T20:13:30.296Z"
   },
   {
    "duration": 319,
    "start_time": "2024-11-01T20:13:36.046Z"
   },
   {
    "duration": 317,
    "start_time": "2024-11-01T20:13:46.754Z"
   },
   {
    "duration": 4,
    "start_time": "2024-11-01T20:19:08.115Z"
   },
   {
    "duration": 27,
    "start_time": "2024-11-01T20:19:20.308Z"
   },
   {
    "duration": 25,
    "start_time": "2024-11-01T20:19:49.803Z"
   },
   {
    "duration": 23,
    "start_time": "2024-11-01T20:19:59.628Z"
   },
   {
    "duration": 308,
    "start_time": "2024-11-01T20:20:24.155Z"
   },
   {
    "duration": 32,
    "start_time": "2024-11-01T20:20:46.771Z"
   },
   {
    "duration": 318,
    "start_time": "2024-11-01T20:20:52.819Z"
   },
   {
    "duration": 450,
    "start_time": "2024-11-01T20:21:00.410Z"
   },
   {
    "duration": 336,
    "start_time": "2024-11-01T20:22:54.209Z"
   },
   {
    "duration": 313,
    "start_time": "2024-11-01T20:23:14.495Z"
   },
   {
    "duration": 493,
    "start_time": "2024-11-01T20:25:55.027Z"
   },
   {
    "duration": 430,
    "start_time": "2024-11-01T20:26:14.378Z"
   },
   {
    "duration": 304,
    "start_time": "2024-11-01T20:26:51.410Z"
   },
   {
    "duration": 300,
    "start_time": "2024-11-01T20:44:32.296Z"
   },
   {
    "duration": 412,
    "start_time": "2024-11-01T20:44:35.181Z"
   },
   {
    "duration": 445,
    "start_time": "2024-11-01T20:44:38.259Z"
   },
   {
    "duration": 15,
    "start_time": "2024-11-01T21:01:54.729Z"
   },
   {
    "duration": 6,
    "start_time": "2024-11-01T21:02:19.105Z"
   },
   {
    "duration": 34,
    "start_time": "2024-11-01T21:02:21.247Z"
   },
   {
    "duration": 30,
    "start_time": "2024-11-01T21:02:26.362Z"
   },
   {
    "duration": 5,
    "start_time": "2024-11-01T21:11:31.593Z"
   },
   {
    "duration": 5,
    "start_time": "2024-11-01T21:12:24.358Z"
   },
   {
    "duration": 3,
    "start_time": "2024-11-01T21:13:24.047Z"
   },
   {
    "duration": 33,
    "start_time": "2024-11-01T21:13:27.357Z"
   },
   {
    "duration": 46,
    "start_time": "2024-11-01T21:13:36.806Z"
   },
   {
    "duration": 45,
    "start_time": "2024-11-01T21:13:40.352Z"
   },
   {
    "duration": 3,
    "start_time": "2024-11-01T21:14:09.127Z"
   },
   {
    "duration": 38,
    "start_time": "2024-11-01T21:14:12.687Z"
   },
   {
    "duration": 41,
    "start_time": "2024-11-01T21:14:14.641Z"
   },
   {
    "duration": 43,
    "start_time": "2024-11-01T21:14:17.306Z"
   },
   {
    "duration": 32,
    "start_time": "2024-11-01T21:14:59.677Z"
   },
   {
    "duration": 315,
    "start_time": "2024-11-01T21:15:03.724Z"
   },
   {
    "duration": 412,
    "start_time": "2024-11-01T21:15:12.690Z"
   },
   {
    "duration": 461,
    "start_time": "2024-11-01T21:15:26.941Z"
   },
   {
    "duration": 345,
    "start_time": "2024-11-01T21:16:00.573Z"
   },
   {
    "duration": 33,
    "start_time": "2024-11-01T21:16:12.184Z"
   },
   {
    "duration": 305,
    "start_time": "2024-11-01T21:16:15.429Z"
   },
   {
    "duration": 462,
    "start_time": "2024-11-01T21:16:26.632Z"
   },
   {
    "duration": 423,
    "start_time": "2024-11-01T21:16:32.201Z"
   },
   {
    "duration": 305,
    "start_time": "2024-11-01T21:21:42.477Z"
   },
   {
    "duration": 438,
    "start_time": "2024-11-01T21:21:44.703Z"
   },
   {
    "duration": 416,
    "start_time": "2024-11-01T21:21:47.393Z"
   },
   {
    "duration": 3,
    "start_time": "2024-11-01T21:22:51.367Z"
   },
   {
    "duration": 37,
    "start_time": "2024-11-01T21:22:53.938Z"
   },
   {
    "duration": 48,
    "start_time": "2024-11-01T21:22:56.641Z"
   },
   {
    "duration": 38,
    "start_time": "2024-11-01T21:22:59.547Z"
   },
   {
    "duration": 4,
    "start_time": "2024-11-01T21:23:04.868Z"
   },
   {
    "duration": 31,
    "start_time": "2024-11-01T21:23:06.708Z"
   },
   {
    "duration": 42,
    "start_time": "2024-11-01T21:23:08.505Z"
   },
   {
    "duration": 34,
    "start_time": "2024-11-01T21:23:11.293Z"
   },
   {
    "duration": 3,
    "start_time": "2024-11-01T21:29:11.672Z"
   },
   {
    "duration": 5,
    "start_time": "2024-11-01T21:29:24.695Z"
   },
   {
    "duration": 4,
    "start_time": "2024-11-01T21:29:36.192Z"
   },
   {
    "duration": 33,
    "start_time": "2024-11-01T21:29:38.141Z"
   },
   {
    "duration": 3,
    "start_time": "2024-11-01T21:30:04.513Z"
   },
   {
    "duration": 38,
    "start_time": "2024-11-01T21:30:06.550Z"
   },
   {
    "duration": 49,
    "start_time": "2024-11-01T21:30:09.933Z"
   },
   {
    "duration": 36,
    "start_time": "2024-11-01T21:30:13.532Z"
   },
   {
    "duration": 34,
    "start_time": "2024-11-01T21:30:47.611Z"
   },
   {
    "duration": 323,
    "start_time": "2024-11-01T21:30:54.330Z"
   },
   {
    "duration": 461,
    "start_time": "2024-11-01T21:30:59.137Z"
   },
   {
    "duration": 475,
    "start_time": "2024-11-01T21:31:02.057Z"
   },
   {
    "duration": 316,
    "start_time": "2024-11-01T21:31:34.350Z"
   },
   {
    "duration": 452,
    "start_time": "2024-11-01T21:31:39.638Z"
   },
   {
    "duration": 408,
    "start_time": "2024-11-01T21:31:41.798Z"
   },
   {
    "duration": 3,
    "start_time": "2024-11-01T21:31:55.356Z"
   },
   {
    "duration": 774,
    "start_time": "2024-11-01T21:32:03.159Z"
   },
   {
    "duration": 246,
    "start_time": "2024-11-01T21:32:03.935Z"
   },
   {
    "duration": 16,
    "start_time": "2024-11-01T21:32:04.182Z"
   },
   {
    "duration": 28,
    "start_time": "2024-11-01T21:32:04.199Z"
   },
   {
    "duration": 32,
    "start_time": "2024-11-01T21:32:04.229Z"
   },
   {
    "duration": 29,
    "start_time": "2024-11-01T21:32:04.263Z"
   },
   {
    "duration": 55,
    "start_time": "2024-11-01T21:32:04.294Z"
   },
   {
    "duration": 9,
    "start_time": "2024-11-01T21:32:04.351Z"
   },
   {
    "duration": 16,
    "start_time": "2024-11-01T21:32:04.361Z"
   },
   {
    "duration": 58,
    "start_time": "2024-11-01T21:32:04.378Z"
   },
   {
    "duration": 19,
    "start_time": "2024-11-01T21:32:04.438Z"
   },
   {
    "duration": 64,
    "start_time": "2024-11-01T21:32:04.460Z"
   },
   {
    "duration": 105,
    "start_time": "2024-11-01T21:32:04.525Z"
   },
   {
    "duration": 102,
    "start_time": "2024-11-01T21:32:04.633Z"
   },
   {
    "duration": 7,
    "start_time": "2024-11-01T21:32:04.738Z"
   },
   {
    "duration": 76,
    "start_time": "2024-11-01T21:32:04.748Z"
   },
   {
    "duration": 32,
    "start_time": "2024-11-01T21:32:04.829Z"
   },
   {
    "duration": 165,
    "start_time": "2024-11-01T21:32:04.866Z"
   },
   {
    "duration": 111,
    "start_time": "2024-11-01T21:32:05.036Z"
   },
   {
    "duration": 176,
    "start_time": "2024-11-01T21:32:05.150Z"
   },
   {
    "duration": 378,
    "start_time": "2024-11-01T21:32:05.329Z"
   },
   {
    "duration": 448,
    "start_time": "2024-11-01T21:32:05.708Z"
   },
   {
    "duration": 436,
    "start_time": "2024-11-01T21:32:06.158Z"
   },
   {
    "duration": 519,
    "start_time": "2024-11-01T21:32:15.342Z"
   },
   {
    "duration": 307,
    "start_time": "2024-11-01T21:32:28.802Z"
   },
   {
    "duration": 317,
    "start_time": "2024-11-01T21:35:13.714Z"
   },
   {
    "duration": 409,
    "start_time": "2024-11-01T21:35:19.789Z"
   },
   {
    "duration": 308,
    "start_time": "2024-11-01T21:36:58.567Z"
   },
   {
    "duration": 313,
    "start_time": "2024-11-01T21:37:42.159Z"
   },
   {
    "duration": 302,
    "start_time": "2024-11-01T21:38:00.780Z"
   },
   {
    "duration": 309,
    "start_time": "2024-11-01T21:38:14.600Z"
   },
   {
    "duration": 420,
    "start_time": "2024-11-01T21:38:22.989Z"
   },
   {
    "duration": 567,
    "start_time": "2024-11-01T21:38:28.938Z"
   },
   {
    "duration": 29,
    "start_time": "2024-11-01T21:39:56.269Z"
   },
   {
    "duration": 305,
    "start_time": "2024-11-01T21:40:00.239Z"
   },
   {
    "duration": 462,
    "start_time": "2024-11-01T21:40:05.037Z"
   },
   {
    "duration": 477,
    "start_time": "2024-11-01T21:40:08.837Z"
   },
   {
    "duration": 300,
    "start_time": "2024-11-01T21:40:18.807Z"
   },
   {
    "duration": 427,
    "start_time": "2024-11-01T21:40:20.870Z"
   },
   {
    "duration": 450,
    "start_time": "2024-11-01T21:40:23.054Z"
   },
   {
    "duration": 311,
    "start_time": "2024-11-01T21:40:44.621Z"
   },
   {
    "duration": 442,
    "start_time": "2024-11-01T21:40:48.136Z"
   },
   {
    "duration": 431,
    "start_time": "2024-11-01T21:40:50.871Z"
   },
   {
    "duration": 15,
    "start_time": "2024-11-01T21:41:03.184Z"
   },
   {
    "duration": 5,
    "start_time": "2024-11-01T21:41:09.494Z"
   },
   {
    "duration": 26,
    "start_time": "2024-11-01T21:41:11.895Z"
   },
   {
    "duration": 28,
    "start_time": "2024-11-01T21:41:15.007Z"
   },
   {
    "duration": 4,
    "start_time": "2024-11-01T21:41:18.284Z"
   },
   {
    "duration": 28,
    "start_time": "2024-11-01T21:41:20.876Z"
   },
   {
    "duration": 4,
    "start_time": "2024-11-01T21:41:39.235Z"
   },
   {
    "duration": 34,
    "start_time": "2024-11-01T21:41:48.496Z"
   },
   {
    "duration": 29,
    "start_time": "2024-11-01T21:41:51.435Z"
   },
   {
    "duration": 3,
    "start_time": "2024-11-01T21:42:56.055Z"
   },
   {
    "duration": 32,
    "start_time": "2024-11-01T21:42:58.222Z"
   },
   {
    "duration": 32,
    "start_time": "2024-11-01T21:43:02.498Z"
   },
   {
    "duration": 31,
    "start_time": "2024-11-01T21:43:05.032Z"
   },
   {
    "duration": 315,
    "start_time": "2024-11-01T21:43:11.127Z"
   },
   {
    "duration": 755,
    "start_time": "2024-11-03T17:18:44.493Z"
   },
   {
    "duration": 380,
    "start_time": "2024-11-03T17:18:45.250Z"
   },
   {
    "duration": 19,
    "start_time": "2024-11-03T17:18:45.633Z"
   },
   {
    "duration": 19,
    "start_time": "2024-11-03T17:18:45.655Z"
   },
   {
    "duration": 50,
    "start_time": "2024-11-03T17:18:45.676Z"
   },
   {
    "duration": 40,
    "start_time": "2024-11-03T17:18:45.728Z"
   },
   {
    "duration": 49,
    "start_time": "2024-11-03T17:18:45.771Z"
   },
   {
    "duration": 9,
    "start_time": "2024-11-03T17:18:45.822Z"
   },
   {
    "duration": 16,
    "start_time": "2024-11-03T17:18:45.833Z"
   },
   {
    "duration": 77,
    "start_time": "2024-11-03T17:18:45.853Z"
   },
   {
    "duration": 18,
    "start_time": "2024-11-03T17:18:45.932Z"
   },
   {
    "duration": 6,
    "start_time": "2024-11-03T17:18:45.951Z"
   },
   {
    "duration": 79,
    "start_time": "2024-11-03T17:18:45.959Z"
   },
   {
    "duration": 101,
    "start_time": "2024-11-03T17:18:46.108Z"
   },
   {
    "duration": 10,
    "start_time": "2024-11-03T17:18:46.214Z"
   },
   {
    "duration": 4,
    "start_time": "2024-11-03T17:18:46.226Z"
   },
   {
    "duration": 97,
    "start_time": "2024-11-03T17:18:46.231Z"
   },
   {
    "duration": 96,
    "start_time": "2024-11-03T17:18:46.333Z"
   },
   {
    "duration": 103,
    "start_time": "2024-11-03T17:18:46.434Z"
   },
   {
    "duration": 99,
    "start_time": "2024-11-03T17:18:46.539Z"
   },
   {
    "duration": 389,
    "start_time": "2024-11-03T17:18:46.707Z"
   },
   {
    "duration": 483,
    "start_time": "2024-11-03T17:18:47.098Z"
   },
   {
    "duration": 458,
    "start_time": "2024-11-03T17:18:47.583Z"
   }
  ],
  "kernelspec": {
   "display_name": "Python 3 (ipykernel)",
   "language": "python",
   "name": "python3"
  },
  "language_info": {
   "codemirror_mode": {
    "name": "ipython",
    "version": 3
   },
   "file_extension": ".py",
   "mimetype": "text/x-python",
   "name": "python",
   "nbconvert_exporter": "python",
   "pygments_lexer": "ipython3",
   "version": "3.9.19"
  },
  "toc": {
   "base_numbering": 1,
   "nav_menu": {},
   "number_sections": true,
   "sideBar": true,
   "skip_h1_title": true,
   "title_cell": "Table of Contents",
   "title_sidebar": "Contents",
   "toc_cell": false,
   "toc_position": {
    "height": "calc(100% - 180px)",
    "left": "10px",
    "top": "150px",
    "width": "380.797px"
   },
   "toc_section_display": true,
   "toc_window_display": true
  }
 },
 "nbformat": 4,
 "nbformat_minor": 2
}
